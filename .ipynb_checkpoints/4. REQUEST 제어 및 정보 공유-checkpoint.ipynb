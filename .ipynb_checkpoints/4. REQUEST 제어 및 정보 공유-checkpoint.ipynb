{
 "cells": [
  {
   "cell_type": "markdown",
   "metadata": {},
   "source": [
    "# Flask context"
   ]
  },
  {
   "cell_type": "code",
   "execution_count": 1,
   "metadata": {},
   "outputs": [],
   "source": [
    "## Flask context 전역 변수\n",
    "# Request를 처리하기 제공되는 객체\n",
    "\n",
    "# current _app : 활성화된 어플리케이션을 위한 어플리케이션 인스턴스 객체\n",
    "# g : Request를 처리하는 동안 어플리케이션이 임시 저장정보를 사용할 수 있는 객체\n",
    "# request : Client에 의해 송신된 http request의 contents를 관리하는 객체\n",
    "# session : 사용자 session, 어플리케이션 request 사이의 정보를 정장해서 사용하는 dict 타입객체"
   ]
  },
  {
   "cell_type": "code",
   "execution_count": 3,
   "metadata": {},
   "outputs": [
    {
     "name": "stdout",
     "output_type": "stream",
     "text": [
      "Writing flaskr/flask_ts.py\n"
     ]
    }
   ],
   "source": [
    "%%writefile flaskr/flask_ts.py\n",
    "\n",
    "## Current_app 코드 작성\n",
    "# Request를 처리하기 전후에 코드\n",
    "from flask import Flask, render_template, g, current_app\n",
    "\n",
    "app = Flask('__name__')\n",
    "\n",
    "@app.route('/')\n",
    "def hello():\n",
    "    h = dir(current_app)\n",
    "    return \" Hello Flask Jupyter Notebook <br>\" + \"<br>\".join(h)\n",
    "\n",
    "@app.route('/hi')\n",
    "def hello1():\n",
    "    return \"hello1 hi !!!!!\" + g.my\n",
    "\n",
    "@app.before_request\n",
    "def before_request():\n",
    "    g.my = \"before_request\"\n",
    "    print('before request')\n",
    "    \n",
    "@app.teardown_request\n",
    "def teardown_request(exception):\n",
    "    print(app.app_context())\n",
    "    print('end request')\n",
    "    \n",
    "if __name__ == '__main__':\n",
    "    app.run(use_reloader=True, debug=True)\n"
   ]
  },
  {
   "cell_type": "markdown",
   "metadata": {},
   "source": [
    "# Request hook"
   ]
  },
  {
   "cell_type": "code",
   "execution_count": 4,
   "metadata": {},
   "outputs": [],
   "source": [
    "## Request hook\n",
    "# Request를 처리하기 전후에 코드를 실행\n",
    "\n",
    "# before_first_request : 함수를 등록해서 첫번째 request가 처리\n",
    "# before_request : 각 request전에 실행하는 함수\n",
    "# after_request : 예외가 없는 경우 각 request후에 실행하는 함수\n",
    "#teardown_request 예외가 발생해도 각 request후에 실행하는 함수"
   ]
  },
  {
   "cell_type": "code",
   "execution_count": null,
   "metadata": {},
   "outputs": [],
   "source": [
    "%%writefile flaskr/flask_ts.py\n",
    "\n",
    "## Request hook\n",
    "# Request를 처리하기 전후에 코드를 작성하고 g객체를 가지고 정보를 공유함\n",
    "from flask import Flask, render_template, request, g, session\n",
    "\n",
    "app = Flask('__name__')\n",
    "\n",
    "@app.route('/')\n",
    "def hello():\n",
    "    return \" Hello Flask Jupyter Notebook\"\n",
    "\n",
    "@app.route('/hi')\n",
    "def hello1():\n",
    "    return \"hello1 hi !!!!!\" + g.my\n",
    "\n",
    "@app.before_request\n",
    "def before_request():\n",
    "    g.my = \"before_request\"\n",
    "    print('before request')\n",
    "    \n",
    "@app.teardown_request\n",
    "def teardown_request(exception):\n",
    "    print('end request')\n",
    "    \n",
    "if __name__ == '__main__':\n",
    "    app.run(use_reloader=True, debug=True)\n"
   ]
  }
 ],
 "metadata": {
  "kernelspec": {
   "display_name": "Python 3",
   "language": "python",
   "name": "python3"
  },
  "language_info": {
   "codemirror_mode": {
    "name": "ipython",
    "version": 3
   },
   "file_extension": ".py",
   "mimetype": "text/x-python",
   "name": "python",
   "nbconvert_exporter": "python",
   "pygments_lexer": "ipython3",
   "version": "3.7.4"
  }
 },
 "nbformat": 4,
 "nbformat_minor": 2
}
