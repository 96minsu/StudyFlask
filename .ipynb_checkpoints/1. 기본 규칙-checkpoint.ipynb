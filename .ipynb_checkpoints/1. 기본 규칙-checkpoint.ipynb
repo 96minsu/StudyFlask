{
 "cells": [
  {
   "cell_type": "markdown",
   "metadata": {},
   "source": [
    "# Server 구동"
   ]
  },
  {
   "cell_type": "code",
   "execution_count": 9,
   "metadata": {},
   "outputs": [
    {
     "name": "stdout",
     "output_type": "stream",
     "text": [
      "<Flask '__main__'>\n"
     ]
    }
   ],
   "source": [
    "## Flask 서버 시작\n",
    "# flask를 구동시키기 위한 어플리케이션 인스턴스를 생성\n",
    "from flask import Flask\n",
    "app = Flask(__name__)\n",
    "print(app)"
   ]
  },
  {
   "cell_type": "code",
   "execution_count": 10,
   "metadata": {},
   "outputs": [
    {
     "name": "stdout",
     "output_type": "stream",
     "text": [
      " * Serving Flask app \"__main__\" (lazy loading)\n",
      " * Environment: production\n",
      "   WARNING: This is a development server. Do not use it in a production deployment.\n",
      "   Use a production WSGI server instead.\n",
      " * Debug mode: off\n"
     ]
    },
    {
     "name": "stderr",
     "output_type": "stream",
     "text": [
      " * Running on http://127.0.0.1:5000/ (Press CTRL+C to quit)\n"
     ]
    }
   ],
   "source": [
    "## Flask 서버 시작\n",
    "# flask를 구동시키기 위한 어플리케이션 인스턴스를 run()을 구동해서 시작\n",
    "if __name__ == '__main__':\n",
    "    app.run()"
   ]
  },
  {
   "cell_type": "code",
   "execution_count": 2,
   "metadata": {},
   "outputs": [
    {
     "name": "stdout",
     "output_type": "stream",
     "text": [
      "Overwriting flaskr/hello_ts.py\n"
     ]
    }
   ],
   "source": [
    "%%writefile flaskr/hello_ts.py\n",
    "\n",
    "# hello world 출력하기\n",
    "from flask import Flask\n",
    "app = Flask(__name__)\n",
    "\n",
    "@app.route('/')\n",
    "def hello():\n",
    "    return 'Hello World!'\n",
    "\n",
    "if __name__ == '__main__':\n",
    "    app.run(debug=True)"
   ]
  },
  {
   "cell_type": "markdown",
   "metadata": {},
   "source": [
    "# 어플리케이션 컨택스트"
   ]
  },
  {
   "cell_type": "code",
   "execution_count": 3,
   "metadata": {},
   "outputs": [
    {
     "name": "stdout",
     "output_type": "stream",
     "text": [
      "Overwriting flaskr/hello4.py\n"
     ]
    }
   ],
   "source": [
    "%%writefile flaskr/hello4.py\n",
    "from flask import Flask, request\n",
    "app = Flask(__name__)\n",
    "print(app)\n",
    "\n",
    "@app.route('/')\n",
    "def index():\n",
    "    user_agent = request.headers.get('User-Agent')\n",
    "    return \"<h1> Hello World %s</h1>\"%user_agent\n",
    "\n",
    "@app.route('/user/<name>')\n",
    "def user(name):\n",
    "    return \"<h1> Hello World %s !<h1>\"%name\n",
    "\n",
    "if __name__ == \"__main__\":\n",
    "    app.run()"
   ]
  },
  {
   "cell_type": "code",
   "execution_count": 4,
   "metadata": {},
   "outputs": [
    {
     "name": "stdout",
     "output_type": "stream",
     "text": [
      "Overwriting flaskr/hello_run.py\n"
     ]
    }
   ],
   "source": [
    "%%writefile flaskr/hello_run.py\n",
    "\n",
    "# Current_app으로 현재 구동되는 어플리케이션 확인할 수 있음\n",
    "from hello4 import app as app4\n",
    "from hello2 import app as app2\n",
    "from flask import current_app\n",
    "\n",
    "app_ctx = app4.app_context()\n",
    "app_ctx.push()\n",
    "print(current_app.name)\n",
    "app4.run()"
   ]
  },
  {
   "cell_type": "markdown",
   "metadata": {},
   "source": [
    "# Request 처리"
   ]
  },
  {
   "cell_type": "code",
   "execution_count": 1,
   "metadata": {},
   "outputs": [],
   "source": [
    "from flask import Flask\n",
    "app = Flask(__name__)\n",
    "\n",
    "@app.route('/')\n",
    "def hello_world():\n",
    "    return 'Hello World!'\n",
    "\n",
    "if __name__ == '__main__':\n",
    "    app.run"
   ]
  },
  {
   "cell_type": "code",
   "execution_count": 5,
   "metadata": {},
   "outputs": [
    {
     "name": "stdout",
     "output_type": "stream",
     "text": [
      "Overwriting flaskr/hello5.py\n"
     ]
    }
   ],
   "source": [
    "%%writefile flaskr/hello5.py\n",
    "\n",
    "## app.route : 중복 라우팅\n",
    "# 여러 개의 라우팅을 하나의 함수에 연결해서 동일한 처리\n",
    "import datetime\n",
    "from flask import Flask\n",
    "from flask import render_template\n",
    "app = Flask(__name__)\n",
    "\n",
    "@app.route('/')\n",
    "@app.route('/hello')\n",
    "def index():\n",
    "    \"\"\"Route Handler (View Function) for '/' and '/hello\"\"\"\n",
    "    return 'Hello, world!'\n",
    "\n",
    "if __name__ == '__main__':\n",
    "    app.run(use_reloader=True, debug=True)"
   ]
  },
  {
   "cell_type": "code",
   "execution_count": 26,
   "metadata": {},
   "outputs": [
    {
     "name": "stdout",
     "output_type": "stream",
     "text": [
      "Writing flask_decore_ts.py\n"
     ]
    }
   ],
   "source": [
    "%%writefile flask_decore_ts.py\n",
    "\n",
    "from flask import Flask\n",
    "\n",
    "app = Flask(__name__)\n",
    "\n",
    "def index():\n",
    "    return \"Hello, World!!!!!!!\"\n",
    "\n",
    "app.add_url_rule('/', 'index', index)\n",
    "            \n",
    "if __name__ == '__main__':\n",
    "    app.run(debug=True)"
   ]
  },
  {
   "cell_type": "code",
   "execution_count": 4,
   "metadata": {},
   "outputs": [
    {
     "name": "stdout",
     "output_type": "stream",
     "text": [
      " * Serving Flask app \"__main__\" (lazy loading)\n",
      " * Environment: production\n",
      "   WARNING: This is a development server. Do not use it in a production deployment.\n",
      "   Use a production WSGI server instead.\n",
      " * Debug mode: off\n"
     ]
    },
    {
     "name": "stderr",
     "output_type": "stream",
     "text": [
      " * Running on http://127.0.0.1:5000/ (Press CTRL+C to quit)\n",
      "127.0.0.1 - - [20/Apr/2020 00:40:56] \"\u001b[37mGET /login HTTP/1.1\u001b[0m\" 200 -\n"
     ]
    }
   ],
   "source": [
    "## app.route:HTTP 메소드 지정\n",
    "# 기본은 GET이지만 POST등이 메소드로 처리 가능\n",
    "from flask import Flask, request\n",
    "app = Flask(__name__)\n",
    "\n",
    "@app.route('/login', methods=['GET', 'POST'])\n",
    "def login():\n",
    "    if request.method == 'POST':\n",
    "        return \"Post method\"\n",
    "    else:\n",
    "        return \"Get method\"\n",
    "\n",
    "if __name__ == '__main__':\n",
    "    app.run()"
   ]
  },
  {
   "cell_type": "code",
   "execution_count": 5,
   "metadata": {},
   "outputs": [
    {
     "ename": "SyntaxError",
     "evalue": "Missing parentheses in call to 'print'. Did you mean print('Hey ! You are not allowed to access this !')? (<ipython-input-5-9a3bcf93a261>, line 7)",
     "output_type": "error",
     "traceback": [
      "\u001b[1;36m  File \u001b[1;32m\"<ipython-input-5-9a3bcf93a261>\"\u001b[1;36m, line \u001b[1;32m7\u001b[0m\n\u001b[1;33m    print 'Hey ! You are not allowed to access this !'\u001b[0m\n\u001b[1;37m                                                     ^\u001b[0m\n\u001b[1;31mSyntaxError\u001b[0m\u001b[1;31m:\u001b[0m Missing parentheses in call to 'print'. Did you mean print('Hey ! You are not allowed to access this !')?\n"
     ]
    }
   ],
   "source": [
    "## 에러 catch 및 throw\n",
    "# 에러에 대한 처리\n",
    "\n",
    "# 에러 catch 처리\n",
    "@app.errorhandler(403)\n",
    "def page_forbidden(error):\n",
    "    print 'Hey ! You are not allowed to access this !'\n",
    "\n",
    "@app.errorhandler(403)\n",
    "def page_not_found(error):\n",
    "    print 'Ho no ! The ressource you want to access does not exist :('\n",
    "\n",
    "# 에러 throw 처리\n",
    "@app.route('/show_account_infos')\n",
    "def show_account_infos():\n",
    "    if not user.logged_in:\n",
    "        abort(401)\n",
    "\n",
    "        # Do things ..."
   ]
  },
  {
   "cell_type": "code",
   "execution_count": 8,
   "metadata": {},
   "outputs": [
    {
     "name": "stdout",
     "output_type": "stream",
     "text": [
      "Overwriting flaskr/json_2.py\n"
     ]
    }
   ],
   "source": [
    "%%writefile flaskr/json_2.py\n",
    "\n",
    "## 에러를 abort로 throw하기\n",
    "from flask import Flask, abort, jsonify, make_response\n",
    "\n",
    "app=Flask(__name__)\n",
    "\n",
    "@app.route('/abort', methods=['GET'])\n",
    "def get_task():\n",
    "\n",
    "    return abort(404)\n",
    "\n",
    "## 에러를 abort로 errorhandler\n",
    "@app.errorhandler(404)\n",
    "def not_found(error):\n",
    "    return make_response(jsonify({'error:Notfound'}), 404)\n",
    "    \n",
    "if __name__ == '__main__':\n",
    "    app.run(debug=True)"
   ]
  },
  {
   "cell_type": "markdown",
   "metadata": {},
   "source": [
    "# URL 규칙 "
   ]
  },
  {
   "cell_type": "code",
   "execution_count": 15,
   "metadata": {},
   "outputs": [
    {
     "name": "stdout",
     "output_type": "stream",
     "text": [
      "/\n",
      "/login\n",
      "/?next=%2F\n",
      "/user/John%20Doe\n"
     ]
    }
   ],
   "source": [
    "## url_for : 뷰함수명으로 url 검색\n",
    "from flask import Flask, url_for\n",
    "app = Flask(__name__)\n",
    "@app.route('/')\n",
    "def index(): pass\n",
    "\n",
    "@app.route('/login')\n",
    "def  login(): pass\n",
    "\n",
    "@app.route('/user/<username>')\n",
    "def profile(username): pass\n",
    "\n",
    "with app.test_request_context():\n",
    "    print(url_for('index'))\n",
    "    print(url_for('login'))\n",
    "    print(url_for('index', next='/'))\n",
    "    print(url_for('profile', username='John Doe'))"
   ]
  },
  {
   "cell_type": "code",
   "execution_count": 24,
   "metadata": {},
   "outputs": [
    {
     "name": "stdout",
     "output_type": "stream",
     "text": [
      "Map([<Rule '/login' (OPTIONS, HEAD, GET, POST) -> login>,\n",
      " <Rule '/' (OPTIONS, HEAD, GET) -> index>,\n",
      " <Rule '/static/<filename>' (OPTIONS, HEAD, GET) -> static>])\n",
      " * Serving Flask app \"__main__\" (lazy loading)\n",
      " * Environment: production\n",
      "   WARNING: This is a development server. Do not use it in a production deployment.\n",
      "   Use a production WSGI server instead.\n",
      " * Debug mode: on\n"
     ]
    },
    {
     "name": "stderr",
     "output_type": "stream",
     "text": [
      " * Restarting with stat\n"
     ]
    },
    {
     "ename": "SystemExit",
     "evalue": "1",
     "output_type": "error",
     "traceback": [
      "An exception has occurred, use %tb to see the full traceback.\n",
      "\u001b[1;31mSystemExit\u001b[0m\u001b[1;31m:\u001b[0m 1\n"
     ]
    }
   ],
   "source": [
    "## url_map 확인\n",
    "from flask import Flask\n",
    "\n",
    "app = Flask(__name__)\n",
    "\n",
    "def index():\n",
    "    return \"Hello, World!!!!!!!\"\n",
    "\n",
    "app.add_url_rule('/', 'index', index)\n",
    "\n",
    "@app.route('/login', methods=['GET', 'POST'])\n",
    "def login():\n",
    "    if request.method == 'POST':\n",
    "        session['username'] = request.form['username']\n",
    "        return redirect(url_for('index'))\n",
    "    return '''\n",
    "        <form method=\"post\">\n",
    "            <p><input type=text name=username>\n",
    "            <p><input type=submit value=Login>\n",
    "        </form>\n",
    "    '''\n",
    "print(app.url_map)\n",
    "            \n",
    "if __name__ == '__main__':\n",
    "    app.run(debug=True)"
   ]
  },
  {
   "cell_type": "markdown",
   "metadata": {},
   "source": [
    "# Response 처리"
   ]
  },
  {
   "cell_type": "code",
   "execution_count": 27,
   "metadata": {},
   "outputs": [
    {
     "name": "stdout",
     "output_type": "stream",
     "text": [
      "Overwriting flask_decore_ts.py\n"
     ]
    }
   ],
   "source": [
    "%%writefile flask_decore_ts.py\n",
    "\n",
    "## make_response\n",
    "# response를 만들기 위해 make_response 함수를 처리\n",
    "from flask import Flask, session, request, redirect, url_for, \\make_response\n",
    "\n",
    "print(\"name: \", __name__)\n",
    "\n",
    "app = Flask(__name__)\n",
    "\n",
    "#set the secret key. Keep this really secret:\n",
    "app.secret_key = 'A0Zr98j/3yX R~XHH!jmN]LWX/,?RT'\n",
    "\n",
    "def index():\n",
    "    response = make_response(\"<h1>Hello, World!!!!!!! </h1>\")\n",
    "    return response\n",
    "\n",
    "app.add_url_rule('/', 'index', index)\n",
    "\n",
    "@app.route('/login', methods=['GET', 'POST'])\n",
    "def login():\n",
    "    if request.method == 'POST':\n",
    "        session['username'] = request.form['username']\n",
    "        return redirect(url_for('index'))\n",
    "    return '''\n",
    "        <form method=\"post\">\n",
    "            <p><input type=text name=username>\n",
    "            <p><input type=submit value=Login>\n",
    "        </form>\n",
    "    '''\n",
    "print(app.url_map)\n",
    "            \n",
    "if __name__ == '__main__':\n",
    "    app.run(debug=True)"
   ]
  },
  {
   "cell_type": "code",
   "execution_count": 28,
   "metadata": {},
   "outputs": [
    {
     "name": "stdout",
     "output_type": "stream",
     "text": [
      "Overwriting flaskr/json_1.py\n"
     ]
    }
   ],
   "source": [
    "%%writefile flaskr/json_1.py\n",
    "\n",
    "# !/flask/bin/python\n",
    "from flask import Flask, jsonify\n",
    "app=Flask(__name__)\n",
    "tasks= [\n",
    "{\n",
    "    'id':1,\n",
    "    'title':u'Buygroceries',\n",
    "    'description':u'Milk, Cheese, Pizza, Fruit, Tylenol',\n",
    "    'done': False\n",
    "},\n",
    "{\n",
    "    'id':2,\n",
    "    'title':u'LearnPython',\n",
    "    'description':u'Needto findagoodPythonutorial ontheweb',\n",
    "    'done': False\n",
    "}\n",
    "]\n",
    "@app.route('/json', methods=['GET'])\n",
    "def get_tasks():\n",
    "    return jsonify( tasks)\n",
    "\n",
    "if __name__ == '__main__':\n",
    "    app.run(debug=True)"
   ]
  },
  {
   "cell_type": "markdown",
   "metadata": {},
   "source": [
    "# Redirect 처리"
   ]
  },
  {
   "cell_type": "code",
   "execution_count": 31,
   "metadata": {},
   "outputs": [
    {
     "name": "stdout",
     "output_type": "stream",
     "text": [
      "Overwriting flaskr/hello2.py\n"
     ]
    }
   ],
   "source": [
    "%%writefile flaskr/hello2.py\n",
    "\n",
    "## redirect 함수로 라우팅 하기\n",
    "# redirect(주소)를 정의해서 request 결과를 다른 웹페이지로 전달\n",
    "from flask import Flask, redirect\n",
    "app = Flask(__name__)\n",
    "\n",
    "@app.route('/')\n",
    "def hello_world():\n",
    "    return 'Hello World!'\n",
    "\n",
    "@app.route('/index')\n",
    "def index():\n",
    "    return redirect('http://www.google.com')\n",
    "\n",
    "if __name__ == '__main__':\n",
    "    app.run()"
   ]
  },
  {
   "cell_type": "markdown",
   "metadata": {},
   "source": [
    "# HTML 문서 링크하기"
   ]
  },
  {
   "cell_type": "code",
   "execution_count": 32,
   "metadata": {},
   "outputs": [
    {
     "name": "stdout",
     "output_type": "stream",
     "text": [
      "Overwriting flaskr/templates/aaa.html\n"
     ]
    }
   ],
   "source": [
    "%%writefile flaskr/templates/aaa.html\n",
    "\n",
    "## HTML간 link 처리\n",
    "#템플릿을 작성하고 URL을 주면 이를 모듈에서 route로 연결하면 상호 연계 됨\n",
    "<h1>Ambient Intelligence 2020</h1>\n",
    "<p>Welcome to the WakeKill project.</p>\n",
    "<p><img src=\"/static/rooster.jpg\"></p>\n",
    "<p>&copy; <a href=\"/about\">SmartRooster</a><p>"
   ]
  },
  {
   "cell_type": "code",
   "execution_count": 33,
   "metadata": {},
   "outputs": [
    {
     "name": "stdout",
     "output_type": "stream",
     "text": [
      "Overwriting flaskr/templates/bbb.html\n"
     ]
    }
   ],
   "source": [
    "%%writefile flaskr/templates/bbb.html\n",
    "\n",
    "<h1>SmartRooster - About us</h1>\n",
    "<p>This group if composed by the greatest sleepers in the class.</p>\n",
    "<p>If it wakes us up, you may bet it'll work for you, too.</p>\n",
    "<h1>Try our <a href=\"/\">WakeKill</a> project</h2>"
   ]
  },
  {
   "cell_type": "code",
   "execution_count": 34,
   "metadata": {},
   "outputs": [
    {
     "name": "stdout",
     "output_type": "stream",
     "text": [
      "Overwriting flaskr/html_1.py\n"
     ]
    }
   ],
   "source": [
    "%%writefile flaskr/html_1.py\n",
    "\n",
    "from flask import Flask, render_template\n",
    "\n",
    "app = Flask(__name__)\n",
    "\n",
    "@app.route('/')\n",
    "def index():\n",
    "    \n",
    "    return render_template(\"aaa.html\")\n",
    "\n",
    "@app.route('/about')\n",
    "def about():\n",
    "    \n",
    "    return render_template(\"bbb.html\")\n",
    "\n",
    "if __name__ == '__main__':\n",
    "    app.run()"
   ]
  },
  {
   "cell_type": "code",
   "execution_count": null,
   "metadata": {},
   "outputs": [],
   "source": []
  }
 ],
 "metadata": {
  "kernelspec": {
   "display_name": "Python 3",
   "language": "python",
   "name": "python3"
  },
  "language_info": {
   "codemirror_mode": {
    "name": "ipython",
    "version": 3
   },
   "file_extension": ".py",
   "mimetype": "text/x-python",
   "name": "python",
   "nbconvert_exporter": "python",
   "pygments_lexer": "ipython3",
   "version": "3.7.4"
  }
 },
 "nbformat": 4,
 "nbformat_minor": 2
}
