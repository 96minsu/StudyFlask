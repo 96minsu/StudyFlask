{
 "cells": [
  {
   "cell_type": "code",
   "execution_count": 2,
   "metadata": {},
   "outputs": [
    {
     "name": "stdout",
     "output_type": "stream",
     "text": [
      "Writing templates/aaa.html\n"
     ]
    }
   ],
   "source": [
    "%%writefile templates/aaa.html\n",
    "\n",
    "<h1>Ambient Intelligence 2020</h1>\n",
    "<p>Welcome to the WakeKill project.</p>\n",
    "<p><img src=\"/static/rooster.jpg\"></p>\n",
    "<p>&copy; <a href=\"/about\">SmartRooster</a><p>"
   ]
  },
  {
   "cell_type": "code",
   "execution_count": null,
   "metadata": {},
   "outputs": [],
   "source": [
    "%%writefile templates/aaa.html\n",
    "\n",
    "<h1>SmartRooster - About us</h1>\n",
    "<p>Welcome to the WakeKill project.</p>\n",
    "<p><img src=\"/static/rooster.jpg\"></p>\n",
    "<p>&copy; <a href=\"/about\">SmartRooster</a><p>"
   ]
  }
 ],
 "metadata": {
  "kernelspec": {
   "display_name": "Python 3",
   "language": "python",
   "name": "python3"
  },
  "language_info": {
   "codemirror_mode": {
    "name": "ipython",
    "version": 3
   },
   "file_extension": ".py",
   "mimetype": "text/x-python",
   "name": "python",
   "nbconvert_exporter": "python",
   "pygments_lexer": "ipython3",
   "version": "3.7.4"
  }
 },
 "nbformat": 4,
 "nbformat_minor": 2
}
