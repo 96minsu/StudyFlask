{
 "cells": [
  {
   "cell_type": "markdown",
   "metadata": {},
   "source": [
    "# 템플릿 : macro"
   ]
  },
  {
   "cell_type": "code",
   "execution_count": 1,
   "metadata": {},
   "outputs": [
    {
     "name": "stdout",
     "output_type": "stream",
     "text": [
      "Writing flaskr/templates/macro.html\n"
     ]
    }
   ],
   "source": [
    "%%writefile flaskr/templates/macro.html\n",
    "\n",
    "## 템플릿 :매크로 지정\n",
    "# 하나의 함수를 지정하고 이를 처리\n",
    "{% macro add(x, y) %}\n",
    "    <h1> {{ x+y }} </h1>\n",
    "{% endmacro %}\n",
    "\n",
    "<div>\n",
    "    {{ add(x ,y) }}\n",
    "</div>"
   ]
  },
  {
   "cell_type": "code",
   "execution_count": 2,
   "metadata": {},
   "outputs": [
    {
     "name": "stdout",
     "output_type": "stream",
     "text": [
      "Writing flaskr/macro1.py\n"
     ]
    }
   ],
   "source": [
    "%%writefile flaskr/macro1.py\n",
    "\n",
    "## 템플릿 : 매크로 실행 로직\n",
    "# 매크로 지정 템플릿에 맞춰 x, y의 값을 전달\n",
    "from flask import Flask, render_template\n",
    "app = Flask(__name__)\n",
    "\n",
    "@app.route('/index')\n",
    "def index():\n",
    "    return render_template('macro.html', x=10, y=10)\n",
    "\n",
    "if __name__ == '__main__':\n",
    "    app.run()"
   ]
  },
  {
   "cell_type": "markdown",
   "metadata": {},
   "source": [
    "# 템플릿 : macro import 하기"
   ]
  },
  {
   "cell_type": "code",
   "execution_count": 6,
   "metadata": {},
   "outputs": [
    {
     "name": "stdout",
     "output_type": "stream",
     "text": [
      "Overwriting flaskr/templates/macro_add.html\n"
     ]
    }
   ],
   "source": [
    "%%writefile flaskr/templates/macro_add.html\n",
    "\n",
    "## 템플릿 : 매크로 지정\n",
    "# 하나의 함수를 지정하고 별도의 파일로 저장하고 템플릿에서 import해서 처리\n",
    "{% macro add(x, y) %}\n",
    "    <h1> {{ x+y }} </h1>\n",
    "{% endmacro %}"
   ]
  },
  {
   "cell_type": "code",
   "execution_count": 7,
   "metadata": {},
   "outputs": [
    {
     "name": "stdout",
     "output_type": "stream",
     "text": [
      "Overwriting flaskr/templates/macro1.html\n"
     ]
    }
   ],
   "source": [
    "%%writefile flaskr/templates/macro1.html\n",
    "{% import 'macro_add.html' as add %}\n",
    "<div>\n",
    "    {{ add.add(x, y)}}\n",
    "</div>"
   ]
  },
  {
   "cell_type": "code",
   "execution_count": 8,
   "metadata": {},
   "outputs": [
    {
     "name": "stdout",
     "output_type": "stream",
     "text": [
      "Overwriting flaskr/macro2.py\n"
     ]
    }
   ],
   "source": [
    "%%writefile flaskr/macro2.py\n",
    "\n",
    "## 템플릿 : 매크로 실행 로직\n",
    "# 매크로 지정 템플릿에 맞춰 x, y의 값을 전달\n",
    "from flask import Flask, render_template\n",
    "app = Flask(__name__)\n",
    "\n",
    "@app.route('/index')\n",
    "def index():\n",
    "    return render_template('macro1.html', x=10, y=10)\n",
    "\n",
    "if __name__ == '__main__':\n",
    "    app.run()"
   ]
  },
  {
   "cell_type": "markdown",
   "metadata": {},
   "source": [
    "# 템플릿 : include"
   ]
  },
  {
   "cell_type": "code",
   "execution_count": 10,
   "metadata": {},
   "outputs": [
    {
     "ename": "SyntaxError",
     "evalue": "invalid syntax (<ipython-input-10-abc64a75ebbe>, line 5)",
     "output_type": "error",
     "traceback": [
      "\u001b[1;36m  File \u001b[1;32m\"<ipython-input-10-abc64a75ebbe>\"\u001b[1;36m, line \u001b[1;32m5\u001b[0m\n\u001b[1;33m    {% include 'header.html' %}\u001b[0m\n\u001b[1;37m     ^\u001b[0m\n\u001b[1;31mSyntaxError\u001b[0m\u001b[1;31m:\u001b[0m invalid syntax\n"
     ]
    }
   ],
   "source": [
    "## 템플릿 : include\n",
    "# 공통 html 파일을 분리해서 별도로 보관하고 메인 페이지에서 가져다 쓰기\n",
    "\n",
    "# 2개를 가져다 html 문서 구성\n",
    "{% include 'header.html' %}\n",
    "    body\n",
    "{% include 'footer.html' %}\n",
    "\n",
    "#여러 개를 리스트로 가져다 html 문서 구성\n",
    "{% include ['page_detailed.html', 'page.html'] %}\n",
    "{% include ['special_sidebar.html', 'sidebar.html'] %}\n",
    "\n",
    "# 여러 개를 리스트로 가져다 html 문서 구성시 조건 부여\n",
    "{% include \"sidebar.html\" ignore missing %}\n",
    "{% include \"sidebar.html\" ignore missing with context %}\n",
    "{% include \"sidebar.html\" ignore missing without context %}"
   ]
  },
  {
   "cell_type": "code",
   "execution_count": 11,
   "metadata": {},
   "outputs": [
    {
     "name": "stdout",
     "output_type": "stream",
     "text": [
      "Writing flaskr/templates/include.html\n"
     ]
    }
   ],
   "source": [
    "%%writefile flaskr/templates/include.html\n",
    "\n",
    "## 템플릿 : html 분리\n",
    "# Include시 변수 등이 존재할 경우 context가 달라 변수값이 실행이 되지 않으므로 context를 맞춰줘야 함\n",
    "<ul class=\"nav navbar-nav navbar-right\">\n",
    "    <li>\n",
    "        {% if status == 0 %}\n",
    "            <a href=\"/login\">Login</a>\n",
    "        {% else %}\n",
    "            <a href=\"/login\">Logout</a>\n",
    "        {%endif%}\n",
    "    </li>\n",
    "</ul>"
   ]
  },
  {
   "cell_type": "code",
   "execution_count": 16,
   "metadata": {},
   "outputs": [
    {
     "name": "stdout",
     "output_type": "stream",
     "text": [
      "Overwriting flaskr/templates/include_body.html\n"
     ]
    }
   ],
   "source": [
    "%%writefile flaskr/templates/include_body.html\n",
    "\n",
    "<body>\n",
    "    <h1> variable {{status}}</h1>\n",
    "    {% for status in range(2) %}\n",
    "        {% include 'include.html' %}\n",
    "    {% endfor %}\n",
    "    <div class=\"container\">\n",
    "        <h1> include test {{status}}</h1>\n",
    "    </div>\n",
    "</body>"
   ]
  },
  {
   "cell_type": "code",
   "execution_count": 14,
   "metadata": {},
   "outputs": [
    {
     "name": "stdout",
     "output_type": "stream",
     "text": [
      "Overwriting flaskr/include.py\n"
     ]
    }
   ],
   "source": [
    "%%writefile flaskr/include.py\n",
    "\n",
    "## 템플릿 : include 실행 로직\n",
    "# 렌더링 실행\n",
    "from flask import Flask, render_template\n",
    "app = Flask(__name__)\n",
    "\n",
    "@app.route('/index')\n",
    "def index():\n",
    "    status = 1\n",
    "    return render_template('include_body.html', status=status)\n",
    "\n",
    "if __name__ == '__main__':\n",
    "    app.run()\n"
   ]
  },
  {
   "cell_type": "markdown",
   "metadata": {},
   "source": [
    "# 템플릿 : extends"
   ]
  },
  {
   "cell_type": "code",
   "execution_count": 17,
   "metadata": {},
   "outputs": [
    {
     "name": "stdout",
     "output_type": "stream",
     "text": [
      "Writing flaskr/templates/layout.html\n"
     ]
    }
   ],
   "source": [
    "%%writefile flaskr/templates/layout.html\n",
    "\n",
    "## 템플릿 : 기본 html 작성\n",
    "# 표준이 되는 기본 html 작성\n",
    "<!doctype html>\n",
    "<head>\n",
    "    {% block head %}\n",
    "    <title>\n",
    "        {% block title %}\n",
    "        {% endblock %}\n",
    "        My Main Title\n",
    "    </title>\n",
    "    {% endblock %}\n",
    "</head>\n",
    "<body>\n",
    "    {% block body %}\n",
    "    {% endblock %}\n",
    "</body>\n",
    "</html>"
   ]
  },
  {
   "cell_type": "code",
   "execution_count": 20,
   "metadata": {},
   "outputs": [
    {
     "name": "stdout",
     "output_type": "stream",
     "text": [
      "Overwriting flaskr/templates/show.html\n"
     ]
    }
   ],
   "source": [
    "%%writefile flaskr/templates/show.html\n",
    "\n",
    "## 템플릿 : 상속 html 작성\n",
    "# extends로 기본 html을 상속 받아서 각 block에 tags를 채움\n",
    "{% extends \"layout.html\" %}\n",
    "{% block title %} Index {% endblock %}\n",
    "{% block head %}\n",
    "    <style></style>\n",
    "{% endblock %}\n",
    "{% block body %}\n",
    "    <h1> Hello World !!!</h1>\n",
    "{% endblock %}"
   ]
  },
  {
   "cell_type": "code",
   "execution_count": 19,
   "metadata": {},
   "outputs": [
    {
     "name": "stdout",
     "output_type": "stream",
     "text": [
      "Writing flaskr/show.py\n"
     ]
    }
   ],
   "source": [
    "%%writefile flaskr/show.py\n",
    "\n",
    "## 템플릿 : 상속 실행 로직\n",
    "# 렌더링 실행\n",
    "from flask import Flask, render_template\n",
    "app = Flask(__name__)\n",
    "\n",
    "@app.route('/index')\n",
    "def index():\n",
    "    return render_template('show.html')\n",
    "\n",
    "if __name__ == '__main__':\n",
    "    app.run()"
   ]
  },
  {
   "cell_type": "code",
   "execution_count": null,
   "metadata": {},
   "outputs": [],
   "source": []
  }
 ],
 "metadata": {
  "kernelspec": {
   "display_name": "Python 3",
   "language": "python",
   "name": "python3"
  },
  "language_info": {
   "codemirror_mode": {
    "name": "ipython",
    "version": 3
   },
   "file_extension": ".py",
   "mimetype": "text/x-python",
   "name": "python",
   "nbconvert_exporter": "python",
   "pygments_lexer": "ipython3",
   "version": "3.7.4"
  }
 },
 "nbformat": 4,
 "nbformat_minor": 2
}
