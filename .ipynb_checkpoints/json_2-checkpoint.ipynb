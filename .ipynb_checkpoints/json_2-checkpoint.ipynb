{
 "cells": [
  {
   "cell_type": "code",
   "execution_count": 2,
   "metadata": {},
   "outputs": [
    {
     "ename": "SyntaxError",
     "evalue": "Missing parentheses in call to 'print'. Did you mean print('Hey ! You are not allowed to acces this !')? (<ipython-input-2-716eaddd99f3>, line 7)",
     "output_type": "error",
     "traceback": [
      "\u001b[1;36m  File \u001b[1;32m\"<ipython-input-2-716eaddd99f3>\"\u001b[1;36m, line \u001b[1;32m7\u001b[0m\n\u001b[1;33m    print 'Hey ! You are not allowed to acces this !'\u001b[0m\n\u001b[1;37m                                                    ^\u001b[0m\n\u001b[1;31mSyntaxError\u001b[0m\u001b[1;31m:\u001b[0m Missing parentheses in call to 'print'. Did you mean print('Hey ! You are not allowed to acces this !')?\n"
     ]
    }
   ],
   "source": [
    "%%writefile json_2.py\n",
    "# 에러를 abort로 throw하기\n",
    "from flask import Flask, abort, jsonify, make_response\n",
    "\n",
    "app=Flask(__name__)\n",
    "\n",
    "@app.route('/abort', methods=['GET'])\n",
    "def get_task():\n",
    "\n",
    "    return abort(404)\n",
    "\n",
    "@app.errorhandler(404)\n",
    "def not_found(error):\n",
    "    return make_response(jsonify({'error:Notfound'}), 404)\n",
    "    \n",
    "if __name__ == '__main__':\n",
    "    app.run(debug=True)\n",
    "    # 에러 catch 및 throw\n",
    "# 에러에 대한 처리\n",
    "\n",
    "# 에러 catch 처리\n",
    "@app.errorhandler(403)\n",
    "def page_forbidden(error):\n",
    "    print 'Hey ! You are not allowed to acces this !'\n",
    "\n",
    "@app.errorhandler(403)\n",
    "def page_not_found(error):\n",
    "    print 'Ho no ! The ressource you want to access does not exist :('\n",
    "\n",
    "# 에러 throw 처리\n",
    "@app.route('/show_account_infos')\n",
    "def show_account_infos():\n",
    "    if not user.logged_in:\n",
    "        abort(401)\n",
    "\n",
    "        # Do things ..."
   ]
  },
  {
   "cell_type": "code",
   "execution_count": null,
   "metadata": {},
   "outputs": [],
   "source": []
  }
 ],
 "metadata": {
  "kernelspec": {
   "display_name": "Python 3",
   "language": "python",
   "name": "python3"
  },
  "language_info": {
   "codemirror_mode": {
    "name": "ipython",
    "version": 3
   },
   "file_extension": ".py",
   "mimetype": "text/x-python",
   "name": "python",
   "nbconvert_exporter": "python",
   "pygments_lexer": "ipython3",
   "version": "3.7.4"
  }
 },
 "nbformat": 4,
 "nbformat_minor": 2
}
