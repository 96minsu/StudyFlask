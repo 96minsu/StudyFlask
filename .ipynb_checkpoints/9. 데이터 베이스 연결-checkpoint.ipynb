{
 "cells": [
  {
   "cell_type": "markdown",
   "metadata": {},
   "source": [
    "# 데이터베이스(config 설정)"
   ]
  },
  {
   "cell_type": "code",
   "execution_count": null,
   "metadata": {},
   "outputs": [],
   "source": [
    "%%writefile flaskr/flask_ts_create.py\n",
    "\n",
    "## config 설정\n",
    "# app.config.from_object 메소드를 이용해서 splite config 설정\n",
    "from flask import *\n",
    "import sqlite3\n",
    "\n",
    "#sqlite config\n",
    "DATABASE='../db/my.db'\n",
    "SECRET_KEY='my developement key'\n",
    "USERNAME='root'\n",
    "PASSWORD='1234'\n",
    "\n",
    "# create the application instance :)\n",
    "app=Flask(__name__)\n",
    "\n",
    "# sqlite config read\n",
    "# load config from this file , flaskr.py\n",
    "app.config.from_object(__name__)"
   ]
  }
 ],
 "metadata": {
  "kernelspec": {
   "display_name": "Python 3",
   "language": "python",
   "name": "python3"
  },
  "language_info": {
   "codemirror_mode": {
    "name": "ipython",
    "version": 3
   },
   "file_extension": ".py",
   "mimetype": "text/x-python",
   "name": "python",
   "nbconvert_exporter": "python",
   "pygments_lexer": "ipython3",
   "version": "3.7.4"
  }
 },
 "nbformat": 4,
 "nbformat_minor": 2
}
