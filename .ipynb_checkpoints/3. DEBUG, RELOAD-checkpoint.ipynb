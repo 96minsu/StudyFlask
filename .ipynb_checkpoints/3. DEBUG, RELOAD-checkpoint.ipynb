{
 "cells": [
  {
   "cell_type": "markdown",
   "metadata": {},
   "source": [
    "# debug"
   ]
  },
  {
   "cell_type": "code",
   "execution_count": 3,
   "metadata": {},
   "outputs": [],
   "source": [
    "## app.run : debug 모드\n",
    "\n",
    "# 서버는 코드 변겨을 감지하고 자동으로 리로드하고, 문제가 발생하면 문제를 찾을수 있도록 디버거를 제공"
   ]
  },
  {
   "cell_type": "markdown",
   "metadata": {},
   "source": [
    "# use_reloader"
   ]
  },
  {
   "cell_type": "code",
   "execution_count": 5,
   "metadata": {},
   "outputs": [
    {
     "name": "stdout",
     "output_type": "stream",
     "text": [
      "Overwriting flaskr/templates/homepage.html\n"
     ]
    }
   ],
   "source": [
    "%%writefile flaskr/templates/homepage.html\n",
    "\n",
    "## 템플릿: 기본 html 작성\n",
    "# 표준이 되는 기본 html 작성\n",
    "<!DOCTYPE html>\n",
    "<html lang=\"en\">\n",
    "<head>\n",
    "    <meta chareset=\"UTF-8\">\n",
    "    <title>Hello World</title>\n",
    "    <style>\n",
    "        body{\n",
    "            width: 90%;\n",
    "            margin: auto;\n",
    "            font-family: \"Helvetica Neue\";\n",
    "        }\n",
    "    </style>\n",
    "</head>\n",
    "<body>\n",
    "    <h1>Hello world!</h1>\n",
    "    <p>Today is <strong>{{ the_date }}</strong> and it is a great day!</p>\n",
    "</body>\n",
    "</html>"
   ]
  },
  {
   "cell_type": "code",
   "execution_count": 6,
   "metadata": {},
   "outputs": [
    {
     "name": "stdout",
     "output_type": "stream",
     "text": [
      "Writing flaskr/homepage.py\n"
     ]
    }
   ],
   "source": [
    "%%writefile flaskr/homepage.py\n",
    "\n",
    "## app.run\n",
    "# app.run 함수 파라미터에 use_reloader=True로 넣으면 수정 즉시 적용, debug=True 표시하면 debug처리\n",
    "import datetime\n",
    "from flask import Flask\n",
    "from flask import render_template\n",
    "app = Flask(__name__)\n",
    "\n",
    "@app.route(\"/\")\n",
    "def homepage():\n",
    "    htmltxt = render_template('homepage.html', the_date = datetime.date.today())\n",
    "    return htmltxt\n",
    "\n",
    "if __name__ == '__main__':\n",
    "    app.run(use_reloader=True, debug=True)"
   ]
  },
  {
   "cell_type": "code",
   "execution_count": null,
   "metadata": {},
   "outputs": [],
   "source": []
  }
 ],
 "metadata": {
  "kernelspec": {
   "display_name": "Python 3",
   "language": "python",
   "name": "python3"
  },
  "language_info": {
   "codemirror_mode": {
    "name": "ipython",
    "version": 3
   },
   "file_extension": ".py",
   "mimetype": "text/x-python",
   "name": "python",
   "nbconvert_exporter": "python",
   "pygments_lexer": "ipython3",
   "version": "3.7.4"
  }
 },
 "nbformat": 4,
 "nbformat_minor": 2
}
