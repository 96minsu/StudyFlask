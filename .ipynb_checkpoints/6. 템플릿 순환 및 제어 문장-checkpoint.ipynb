{
 "cells": [
  {
   "cell_type": "markdown",
   "metadata": {},
   "source": [
    "# 템플릿 : if문"
   ]
  },
  {
   "cell_type": "code",
   "execution_count": 13,
   "metadata": {},
   "outputs": [
    {
     "name": "stdout",
     "output_type": "stream",
     "text": [
      "Overwriting flaskr/templates/control1.html\n"
     ]
    }
   ],
   "source": [
    "%%writefile flaskr/templates/control1.html\n",
    "\n",
    "## 템플릿 : 순환문\n",
    "{ % if name % }\n",
    "    <h1>Hello, {{ name | capitalize }}  </h1>\n",
    "{ % else % }\n",
    "    <h1>Hello, no name </h1>\n",
    "{ % endif % }"
   ]
  },
  {
   "cell_type": "code",
   "execution_count": 14,
   "metadata": {},
   "outputs": [
    {
     "name": "stdout",
     "output_type": "stream",
     "text": [
      "Overwriting flaskr/control1.py\n"
     ]
    }
   ],
   "source": [
    "%%writefile flaskr/control1.py\n",
    "\n",
    "## 템플릿 : 제어 실행 로직\n",
    "# name 변수에 값을 주지 않으면 if문에서 else로 처리\n",
    "from flask import Flask, render_template\n",
    "app = Flask(__name__)\n",
    "\n",
    "@app.route('/index')\n",
    "def index():\n",
    "    return render_template('index.html')\n",
    "\n",
    "@app.route('/user/<name>')\n",
    "def user(name):\n",
    "    name = \"\"\n",
    "    return render_template('control1.html', name=name)\n",
    "\n",
    "if __name__ == '__main__' :\n",
    "    app.run()\n"
   ]
  },
  {
   "cell_type": "markdown",
   "metadata": {},
   "source": [
    "# For문 처리 : 일반"
   ]
  },
  {
   "cell_type": "code",
   "execution_count": 15,
   "metadata": {},
   "outputs": [
    {
     "name": "stdout",
     "output_type": "stream",
     "text": [
      "Overwriting flaskr/templates/homepage1.html\n"
     ]
    }
   ],
   "source": [
    "%%writefile flaskr/templates/homepage1.html\n",
    "\n",
    "## 템플릿 : 제어문\n",
    "<!DOCTYPE html>\n",
    "<html lang=\"en\">\n",
    "<head>\n",
    "    <meta charset=\"UTF-8\">\n",
    "    <title>Hello World</title>\n",
    "    <style>\n",
    "        body{\n",
    "            width: 90%\n",
    "            margin: auto;\n",
    "            font-family: \"Helvetica Neue\";\n",
    "        }\n",
    "    </style>\n",
    "</head>\n",
    "<body>\n",
    "    <h1>Hello world!</h1>\n",
    "    <p>Today is <strong>{{ the_date }}</strong> and it is a great day! </p>\n",
    "    \n",
    "        <h2>Let's count!</h2>\n",
    "        \n",
    "        {% for n in numbers %}\n",
    "            <div>{{ n }} bottles of soy.</div>\n",
    "        {% endfor %}\n",
    "        \n",
    "        <p>Done counting!</p>\n",
    "</body>\n",
    "</html>"
   ]
  },
  {
   "cell_type": "code",
   "execution_count": 16,
   "metadata": {},
   "outputs": [
    {
     "name": "stdout",
     "output_type": "stream",
     "text": [
      "Overwriting flaskr/homepage1.py\n"
     ]
    }
   ],
   "source": [
    "%%writefile flaskr/homepage1.py\n",
    "\n",
    "## 메인 프로그램\n",
    "# 내부 리스트로 제공받은 변수에 대해 처리\n",
    "import datetime\n",
    "from flask import Flask\n",
    "from flask import render_template\n",
    "app = Flask(__name__)\n",
    "\n",
    "@app.route(\"/\")\n",
    "def homepage():\n",
    "    htmltxt = render_template('homepage1.html', the_date = datetime.date.today())\n",
    "    return htmltxt\n",
    "\n",
    "if __name__ == '__main__' :\n",
    "    app.run(use_reloader=True, debug=True)"
   ]
  },
  {
   "cell_type": "markdown",
   "metadata": {},
   "source": [
    "# for문 처리:list"
   ]
  },
  {
   "cell_type": "code",
   "execution_count": 17,
   "metadata": {},
   "outputs": [
    {
     "name": "stdout",
     "output_type": "stream",
     "text": [
      "Writing flaskr/templates/forloop1.html\n"
     ]
    }
   ],
   "source": [
    "%%writefile flaskr/templates/forloop1.html\n",
    "\n",
    "## 템플릿 : 제어문\n",
    "<h1> {{ name | title }} </h1>\n",
    "<ul>\n",
    "    {% for comment in comments %}\n",
    "        <li>Hello, {{ comment }} </li>\n",
    "        \n",
    "    {% endfor %}\n",
    "</ul>"
   ]
  },
  {
   "cell_type": "code",
   "execution_count": 18,
   "metadata": {},
   "outputs": [
    {
     "name": "stdout",
     "output_type": "stream",
     "text": [
      "Writing flaskr/forloop1.py\n"
     ]
    }
   ],
   "source": [
    "%%writefile flaskr/forloop1.py\n",
    "\n",
    "## 템플릿 : 순환 실행 로직\n",
    "# name, comments 변수에 값을 주고 템플릿에서 for문을 실행\n",
    "from flask import Flask, render_template\n",
    "app = Flask(__name__)\n",
    "\n",
    "@app.route('/index')\n",
    "def index():\n",
    "    return render_template('index.html')\n",
    "\n",
    "@app.route('/user/<name>')\n",
    "def user(name):\n",
    "    comments = ['apple', 'orange']\n",
    "    return render_template('forloop1.html', name=name, comments=comments)\n",
    "\n",
    "if __name__ == '__main__':\n",
    "    app.run()"
   ]
  },
  {
   "cell_type": "code",
   "execution_count": 27,
   "metadata": {},
   "outputs": [
    {
     "name": "stdout",
     "output_type": "stream",
     "text": [
      "Overwriting flaskr/templates/result.html\n"
     ]
    }
   ],
   "source": [
    "%%writefile flaskr/templates/result.html\n",
    "\n",
    "## 템플릿 : 제어문\n",
    "<!doctype html>\n",
    "<html>\n",
    "    <body>\n",
    "            \n",
    "        <table border = 1>\n",
    "            {% for key, value in result.items() %}\n",
    "                \n",
    "                <tr>\n",
    "                    <th> {{ key }} </th>\n",
    "                    <td> {{ value }} </td>\n",
    "                </tr>\n",
    "                \n",
    "            {% endfor %}\n",
    "        </table>\n",
    "        \n",
    "    </body>\n",
    "</html>"
   ]
  },
  {
   "cell_type": "code",
   "execution_count": 34,
   "metadata": {},
   "outputs": [
    {
     "name": "stdout",
     "output_type": "stream",
     "text": [
      "Overwriting flaskr/result.py\n"
     ]
    }
   ],
   "source": [
    "%%writefile flaskr/result.py\n",
    "\n",
    "## 템플릿 : 순환 실행 로직\n",
    "# dict으로 데이터를 받아 템플릿에서 for문을 실행\n",
    "from flask import Flask, render_template\n",
    "app = Flask (__name__)\n",
    "\n",
    "@app.route('/')\n",
    "@app.route('/result')\n",
    "def result():\n",
    "    \n",
    "    dict = {'phy':50, 'che':60, 'maths':70}\n",
    "    \n",
    "    return render_template('result.html', result = dict)\n",
    "\n",
    "if __name__ == '__main__' :\n",
    "    app.run(debug = True)"
   ]
  },
  {
   "cell_type": "code",
   "execution_count": null,
   "metadata": {},
   "outputs": [],
   "source": []
  }
 ],
 "metadata": {
  "kernelspec": {
   "display_name": "Python 3",
   "language": "python",
   "name": "python3"
  },
  "language_info": {
   "codemirror_mode": {
    "name": "ipython",
    "version": 3
   },
   "file_extension": ".py",
   "mimetype": "text/x-python",
   "name": "python",
   "nbconvert_exporter": "python",
   "pygments_lexer": "ipython3",
   "version": "3.7.4"
  }
 },
 "nbformat": 4,
 "nbformat_minor": 2
}
