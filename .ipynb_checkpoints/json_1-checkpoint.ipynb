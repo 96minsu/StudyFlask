{
 "cells": [
  {
   "cell_type": "code",
   "execution_count": 2,
   "metadata": {},
   "outputs": [
    {
     "name": "stdout",
     "output_type": "stream",
     "text": [
      "Overwriting json_1.py\n"
     ]
    }
   ],
   "source": [
    "%%writefile json_1.py\n",
    "\n",
    "# !bin/python\n",
    "from flask import Flask, jsonify\n",
    "app=Flask(__name__)\n",
    "tasks= [\n",
    "{\n",
    "    'id':1,\n",
    "    'title':u'Buygroceries',\n",
    "    'description':u'Milk, Cheese, Pizza, Fruit, Tylenol',\n",
    "    'done': False\n",
    "},\n",
    "{\n",
    "    'id':2,\n",
    "    'title':u'LearnPython',\n",
    "    'description':u'Needto findagoodPythonutorial ontheweb',\n",
    "    'done': False\n",
    "}\n",
    "]\n",
    "@app.route('/json', methods=['GET'])\n",
    "def get_tasks():\n",
    "    return jsonify( tasks)\n",
    "\n",
    "if __name__ == '__main__':\n",
    "    app.run(debug=True)"
   ]
  },
  {
   "cell_type": "code",
   "execution_count": null,
   "metadata": {},
   "outputs": [],
   "source": []
  }
 ],
 "metadata": {
  "kernelspec": {
   "display_name": "Python 3",
   "language": "python",
   "name": "python3"
  },
  "language_info": {
   "codemirror_mode": {
    "name": "ipython",
    "version": 3
   },
   "file_extension": ".py",
   "mimetype": "text/x-python",
   "name": "python",
   "nbconvert_exporter": "python",
   "pygments_lexer": "ipython3",
   "version": "3.7.4"
  }
 },
 "nbformat": 4,
 "nbformat_minor": 2
}
