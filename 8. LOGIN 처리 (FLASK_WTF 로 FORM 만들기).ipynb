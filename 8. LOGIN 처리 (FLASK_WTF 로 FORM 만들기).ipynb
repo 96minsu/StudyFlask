{
 "cells": [
  {
   "cell_type": "markdown",
   "metadata": {},
   "source": [
    "# 일반 : login"
   ]
  },
  {
   "cell_type": "code",
   "execution_count": 1,
   "metadata": {},
   "outputs": [
    {
     "name": "stdout",
     "output_type": "stream",
     "text": [
      "Overwriting flask_decore_ts.py\n"
     ]
    }
   ],
   "source": [
    "%%writefile flask_decore_ts.py\n",
    "\n",
    "## Login 처리 예시\n",
    "# Login 함수에서 get(send data 요청)과 post(요청 데이터를 받음) 메소드를 처리\n",
    "from flask import Flask, session, request, redirect, url_for\n",
    "\n",
    "app = Flask(__name__)\n",
    "\n",
    "# set the secret key. keep this really secret:\n",
    "app.secret_key = 'A0Zr98j/3yX R~XHH!jmN]LWX/, ?RT'\n",
    "\n",
    "def index():\n",
    "    return \"Hello, World!!!!!!\"\n",
    "\n",
    "app.add_url_rule('/', 'index', index)\n",
    "\n",
    "@app.route('/login', methods=['GET', 'POST'])\n",
    "def login():\n",
    "    if request.method == 'POST':\n",
    "        session['username'] = request.form['username']\n",
    "        return redirect(url_for('index'))\n",
    "    return '''\n",
    "        <form method=\"post\">\n",
    "            <p><input type=text name=username>\n",
    "            <p><input type=submit value=Login>\n",
    "        </form>\n",
    "    '''\n",
    "\n",
    "if __ name__ == '__main__':\n",
    "    app.run(debug=True)"
   ]
  },
  {
   "cell_type": "markdown",
   "metadata": {},
   "source": [
    "# 일반 : login : url_for"
   ]
  },
  {
   "cell_type": "code",
   "execution_count": 2,
   "metadata": {},
   "outputs": [
    {
     "name": "stdout",
     "output_type": "stream",
     "text": [
      "Writing flaskr/templates/login_1.html\n"
     ]
    }
   ],
   "source": [
    "%%writefile flaskr/templates/login_1.html\n",
    "\n",
    "## Login html form 작성\n",
    "# Action은 login에서 같이 처리하도록 url_for(함수명)으로 호출해서 URL를 세팅\n",
    "\n",
    "# action = form의 정보들이 도착하는 목적지\n",
    "<form name=\"login\" method=\"post\" action='{{url_for('login')}}'>\n",
    "    <label>Email</lable>\n",
    "        <input type='text' name ='email' maxlength=\"254\"/>\n",
    "    <label>Password</label>\n",
    "        <input type='password' name='password' />\n",
    "    <button type='submit'>Enter</button>\n",
    "</form>"
   ]
  },
  {
   "cell_type": "code",
   "execution_count": 4,
   "metadata": {},
   "outputs": [
    {
     "name": "stdout",
     "output_type": "stream",
     "text": [
      "Overwriting flaskr/login_1.py\n"
     ]
    }
   ],
   "source": [
    "%%writefile flaskr/login_1.py\n",
    "\n",
    "## Login 프로그램 작성\n",
    "# Login에서 GET 메소드로 login login 폼을 전달해서 Post 메소드로 값을 넣고 재처리\n",
    "from flask import Flask, request, render_template\n",
    "\n",
    "app = Flask(__name__)\n",
    "    '''\n",
    "    method=['GET', 'POST']\n",
    "    메소드를 'GET' , 'POST' 형식으로 선언해주는 문구\n",
    "    이 문구를 적지 않으면 플라스크에서 메소드 형식을 알지 못해서\n",
    "    아무리 Client에서 form으로 정보를 보내도 서버쪽에서 받지 못한다.\n",
    "    '''\n",
    "@app.route('/login', methods=['GET', 'POST'])\n",
    "def login():\n",
    "    #GET request\n",
    "    '''\n",
    "    클라이언트에서 넘어온 method를'GET', 'POST'로 각각 나누어 처리한 것\n",
    "    '''\n",
    "    if request.method=='GET':\n",
    "        return render_template('login_1.html')\n",
    "    #POST request\n",
    "    else:\n",
    "    '''\n",
    "    html 파일 안에서 form을 통해 보낸 정보를 받아오는 구문\n",
    "    ['email']은 input의 name을 받아오는건데 전에 name을 email로 지정해두었기 때문에\n",
    "    request.form['test']로 정보를 받아오면 된다.\n",
    "    '''\n",
    "        email=request.form['email']\n",
    "        password=request.form['password']\n",
    "        #Checkmail&password\n",
    "        #TODO\n",
    "        return \"email\" + email + \"password\" + str(password)\n",
    "    \n",
    "if __name__ == '__main__':\n",
    "    app.run(debug=True)"
   ]
  },
  {
   "cell_type": "markdown",
   "metadata": {},
   "source": [
    "# Form 처리"
   ]
  },
  {
   "cell_type": "code",
   "execution_count": 5,
   "metadata": {},
   "outputs": [
    {
     "name": "stdout",
     "output_type": "stream",
     "text": [
      "Writing flaskr/templates/base.html\n"
     ]
    }
   ],
   "source": [
    "%%writefile flaskr/templates/base.html\n",
    "\n",
    "## 템플릿 : 기본 html 작성\n",
    "# 표준이 되는기본 html 작성\n",
    "<html>\n",
    "    <head>\n",
    "        {% if title %}\n",
    "        <title>{{ title }} - microblog</title>\n",
    "        {% else %}\n",
    "        <title>microblog</title>\n",
    "        {% endif %}\n",
    "    </head>\n",
    "    <body>\n",
    "        <div>Microblog: <a href=\"/index\">Home</a></div>\n",
    "            <hr>\n",
    "            {% with messages = get_flashed_messages() %}\n",
    "                {% if messages %}\n",
    "                    <ul>\n",
    "                    {% for message in messages %}\n",
    "                        <li>{{ message }}</li>\n",
    "                    {% endfor %}\n",
    "                    </ul>\n",
    "                {% endif %}\n",
    "            {% endwith %}\n",
    "            {% block content %}{% endblock %}\n",
    "        </body>\n",
    "    </html>"
   ]
  },
  {
   "cell_type": "code",
   "execution_count": 12,
   "metadata": {},
   "outputs": [
    {
     "name": "stdout",
     "output_type": "stream",
     "text": [
      "Overwriting flaskr/templates/login.html\n"
     ]
    }
   ],
   "source": [
    "%%writefile flaskr/templates/login.html\n",
    "\n",
    "## 템플릿 : login html 작성\n",
    "# 표준이 되는 기본 html 작성\n",
    "<!-- extend from base layout -->\n",
    "{% extends \"base.html\" %}\n",
    "\n",
    "{% block content %}\n",
    "    <h1>Sign In</h1>\n",
    "    <form action=\"/loginform\" method=\"post\" name=\"login\">\n",
    "        {{ form.hidden_tag() }}\n",
    "        <p>\n",
    "            Please enter your OpenID:<br>\n",
    "            {{ form.openid(size=80) }}<br>\n",
    "        </p>\n",
    "        <p>{{ form.remember_me }} Remember Me</p>\n",
    "        <p><input type=\"submit\" value=\"Sign In\"></p>\n",
    "    </form>\n",
    "{% endblock %}"
   ]
  },
  {
   "cell_type": "code",
   "execution_count": 11,
   "metadata": {},
   "outputs": [
    {
     "name": "stdout",
     "output_type": "stream",
     "text": [
      "Overwriting flaskr/login.py\n"
     ]
    }
   ],
   "source": [
    "%%writefile flaskr/login.py\n",
    "\n",
    "## Main 작성 1\n",
    "# 표준이 되는 메인 작성\n",
    "from flask_wtf import Form\n",
    "from wtforms import StringField, BooleanField\n",
    "from wtforms.validators import DataRequired\n",
    "from flask import Flask, request, render_template\n",
    "\n",
    "WTF_CSRF_ENABLED = True\n",
    "SECRET_KEY = 'you-will-never-guess'\n",
    "\n",
    "app = Flask(__name__)\n",
    "app.config.from_object(__name__)\n",
    "\n",
    "class LoginForm(Form):\n",
    "    openid = StringField('openid', validators=[DataRequired()])\n",
    "    remember_me = BooleanField('remember_me', default=False)\n",
    "\n",
    "@app.route('/login', methods=['GET', 'POST'])\n",
    "def login():\n",
    "    form = LoginForm()\n",
    "    return render_template('login.html', title='Sign In', form=form)\n",
    "\n",
    "## Main 작성 2\n",
    "# 실제 form 처리 함수 작성\n",
    "@app.route('/loginform', methods=[\"POST\"])\n",
    "def form_proc():\n",
    "    rst = \"form success\"\n",
    "    if request.method == \"POST\" :\n",
    "        openid = request.form['openid']\n",
    "        remember_me = request.form['remember_me']\n",
    "        \n",
    "    return rst+'openid: ' + openid + 'remember_me: ' + str(remember_me)\n",
    "\n",
    "if __name__ == '__main__':\n",
    "    app.run(use_reloader=True, debug=True)"
   ]
  },
  {
   "cell_type": "code",
   "execution_count": null,
   "metadata": {},
   "outputs": [],
   "source": []
  }
 ],
 "metadata": {
  "kernelspec": {
   "display_name": "Python 3",
   "language": "python",
   "name": "python3"
  },
  "language_info": {
   "codemirror_mode": {
    "name": "ipython",
    "version": 3
   },
   "file_extension": ".py",
   "mimetype": "text/x-python",
   "name": "python",
   "nbconvert_exporter": "python",
   "pygments_lexer": "ipython3",
   "version": "3.7.4"
  }
 },
 "nbformat": 4,
 "nbformat_minor": 2
}
