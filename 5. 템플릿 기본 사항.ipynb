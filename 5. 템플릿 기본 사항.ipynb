{
 "cells": [
  {
   "cell_type": "markdown",
   "metadata": {},
   "source": [
    "# Jinja2 기본 처리"
   ]
  },
  {
   "cell_type": "code",
   "execution_count": 2,
   "metadata": {},
   "outputs": [
    {
     "name": "stdout",
     "output_type": "stream",
     "text": [
      "Writing jinja.py\n"
     ]
    }
   ],
   "source": [
    "%%writefile jinja.py\n",
    "\n",
    "## HTML 문자열로 전달\n",
    "# 함수의 결과를 문자열로 직접 전달\n",
    "from flask import Flask\n",
    "app = Flask(__name__)\n",
    "\n",
    "@app.route('/')\n",
    "@app.route('/hello')\n",
    "@app.route('/hello/<user>')\n",
    "def hello_world(user=None):\n",
    "    user = user or 'Shalabh'\n",
    "    return '''\n",
    "<html>\n",
    "Templating with Jinja2\n",
    "    <head>\n",
    "    <title>Flask Framework Cookbook</title>\n",
    "    </head>\n",
    "    <body>\n",
    "    <h1>Hello %s!</h1>\n",
    "    <p>Welcome to the world of Flask! </p>\n",
    "    </body>\n",
    "</html>''' % user\n",
    "\n",
    "if __name__ == '__main__':\n",
    "    app.run()"
   ]
  },
  {
   "cell_type": "code",
   "execution_count": null,
   "metadata": {},
   "outputs": [],
   "source": []
  }
 ],
 "metadata": {
  "kernelspec": {
   "display_name": "Python 3",
   "language": "python",
   "name": "python3"
  },
  "language_info": {
   "codemirror_mode": {
    "name": "ipython",
    "version": 3
   },
   "file_extension": ".py",
   "mimetype": "text/x-python",
   "name": "python",
   "nbconvert_exporter": "python",
   "pygments_lexer": "ipython3",
   "version": "3.7.4"
  }
 },
 "nbformat": 4,
 "nbformat_minor": 2
}
