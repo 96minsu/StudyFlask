{
 "cells": [
  {
   "cell_type": "markdown",
   "metadata": {},
   "source": [
    "# Jinja2 기본 처리"
   ]
  },
  {
   "cell_type": "code",
   "execution_count": 2,
   "metadata": {},
   "outputs": [
    {
     "name": "stdout",
     "output_type": "stream",
     "text": [
      "Overwriting jinja.py\n"
     ]
    }
   ],
   "source": [
    "%%writefile jinja.py\n",
    "\n",
    "## HTML 문자열로 전달\n",
    "# 함수의 결과를 문자열로 직접 전달\n",
    "from flask import Flask\n",
    "app = Flask(__name__)\n",
    "\n",
    "@app.route('/')\n",
    "@app.route('/hello')\n",
    "@app.route('/hello/<user>')\n",
    "def hello_world(user=None):\n",
    "    user = user or 'Shalabh'\n",
    "    return '''\n",
    "<html>\n",
    "Templating with Jinja2\n",
    "    <head>\n",
    "    <title>Flask Framework Cookbook</title>\n",
    "    </head>\n",
    "    <body>\n",
    "    <h1>Hello %s!</h1>\n",
    "    <p>Welcome to the world of Flask! </p>\n",
    "    </body>\n",
    "</html>''' % user\n",
    "\n",
    "if __name__ == '__main__':\n",
    "    app.run()"
   ]
  },
  {
   "cell_type": "code",
   "execution_count": 3,
   "metadata": {},
   "outputs": [
    {
     "name": "stdout",
     "output_type": "stream",
     "text": [
      "Overwriting jinja.py\n"
     ]
    }
   ],
   "source": [
    "%%writefile jinja.py\n",
    "\n",
    "## Render_template으로 변환\n",
    "# 함수의 결과를 문자열로 직접 전달\n",
    "from flask import Flask, request, render_template\n",
    "app = Flask(__name__)\n",
    "\n",
    "@app.route('/')\n",
    "@app.route('/hello')\n",
    "@app.route('/hello/<user>')\n",
    "def hello_world(user=None):\n",
    "    if user:\n",
    "        user = user\n",
    "    else :\n",
    "        user = request.args.get('user', 'Shalabh')\n",
    "    return render_template('index.html', user=user)\n",
    "\n",
    "if __name__ == '__main__':\n",
    "    app.run(debug=True)"
   ]
  },
  {
   "cell_type": "markdown",
   "metadata": {},
   "source": [
    "# 템플릿 주요 문법"
   ]
  },
  {
   "cell_type": "code",
   "execution_count": 4,
   "metadata": {},
   "outputs": [
    {
     "name": "stdout",
     "output_type": "stream",
     "text": [
      "Hello, peter\n"
     ]
    }
   ],
   "source": [
    "## Jinja2 : 변수처리\n",
    "# jinja2 모듈의 template을 이용해서 변수 처리하기\n",
    "from jinja2 import Template\n",
    "\n",
    "# Create a Template containing Jinga2 variable\n",
    "t = Template('Hello, {{ name}}')\n",
    "\n",
    "# Render the template with value for variable\n",
    "print(t.render(name='peter'))"
   ]
  },
  {
   "cell_type": "code",
   "execution_count": 5,
   "metadata": {},
   "outputs": [
    {
     "name": "stdout",
     "output_type": "stream",
     "text": [
      "Hello, Peter\n",
      "Hello, Peter And Paul\n"
     ]
    }
   ],
   "source": [
    "from jinja2 import Template\n",
    "\n",
    "t1 = Template('Hello, {{ name|striptags}}')\n",
    "print(t1.render(name='<em>Peter</em>'))\n",
    "\n",
    "t2 = Template('Hello, {{ name|trim|title}}')\n",
    "print(t2.render(name='peter and paul'))"
   ]
  },
  {
   "cell_type": "code",
   "execution_count": 8,
   "metadata": {},
   "outputs": [
    {
     "data": {
      "text/plain": [
       "'\\n<!doctype html>\\n<html>\\n    <body>\\n        {% if marks>50 %}\\n        <h1> Your result is pass!</h1>\\n        {% else %}\\n        <h1> Your result is fail</h1>\\n        {% endif %}\\n        \\n    </body>\\n</html>\\n\\n\\n{% ... %}  : 문장\\n{{ ... }}        : 표현식\\n{# ... #}      : 주석\\n# ... ##       : 라인문장\\n\\n'"
      ]
     },
     "execution_count": 8,
     "metadata": {},
     "output_type": "execute_result"
    }
   ],
   "source": [
    "## 템플릿 문법 : 문장 처리 {% ... %}\n",
    "# 제어 문장을 템플릿으로 작성하는 법\n",
    "\"\"\"\n",
    "<!doctype html>\n",
    "<html>\n",
    "    <body>\n",
    "        {% if marks>50 %}\n",
    "        <h1> Your result is pass!</h1>\n",
    "        {% else %}\n",
    "        <h1> Your result is fail</h1>\n",
    "        {% endif %}\n",
    "        \n",
    "    </body>\n",
    "</html>\n",
    "\n",
    "\n",
    "{% ... %}  : 문장\n",
    "{{ ... }}        : 표현식\n",
    "{# ... #}      : 주석\n",
    "# ... ##       : 라인문장\n",
    "\n",
    "\"\"\""
   ]
  },
  {
   "cell_type": "code",
   "execution_count": 9,
   "metadata": {},
   "outputs": [
    {
     "name": "stdout",
     "output_type": "stream",
     "text": [
      "Writing flaskr/templates/var.html\n"
     ]
    }
   ],
   "source": [
    "%%writefile flaskr/templates/var.html\n",
    "\n",
    "## 템플릿 문법 : 문장 처리 예시1\n",
    "# 템플릿과 파이썬 함수를 정의\n",
    "<!doctype html>\n",
    "<title>Hello from Flask</title>\n",
    "{% if name %}\n",
    "<h1>Hello {{ name }}!</h1>\n",
    "{% else %}\n",
    "<h1>Hello World!</h1>\n",
    "{% endif  %}"
   ]
  },
  {
   "cell_type": "code",
   "execution_count": 11,
   "metadata": {},
   "outputs": [
    {
     "name": "stdout",
     "output_type": "stream",
     "text": [
      "Overwriting flaskr/var.py\n"
     ]
    }
   ],
   "source": [
    "%%writefile flaskr/var.py\n",
    "\n",
    "## 템플릿 문법 : 문장 처리 예시2\n",
    "# 템플릿과 파이썬 함수를 실행결과\n",
    "from flask import Flask, render_template\n",
    "\n",
    "app=Flask(__name__)\n",
    "\n",
    "@app.route('/')\n",
    "@app.route('/<name>')\n",
    "def get_task(name=None):\n",
    "    \n",
    "    return render_template('var.html', name=name)\n",
    "\n",
    "if __name__ == '__main__' :\n",
    "    app.run(debug=True)"
   ]
  },
  {
   "cell_type": "markdown",
   "metadata": {},
   "source": [
    "# 변수 처리 "
   ]
  },
  {
   "cell_type": "code",
   "execution_count": 15,
   "metadata": {},
   "outputs": [],
   "source": [
    "## 변수\n",
    "from flask import Flask\n",
    "app = Flask(__name__)\n",
    "\n",
    "# <variable_name>으로 URL에 특별한 영역으로 표시하고 함수의 키워드 인수로써 전달 \n",
    "@app.route('/user/<username>')\n",
    "def show_user_profile(username) :\n",
    "    # show the user profile for that user\n",
    "    return 'User %s' % username\n",
    "\n",
    "# int 등은 <converter:variable_name> 지정\n",
    "@app.route('/post/<int:post_id>')\n",
    "def show_post(post_id):\n",
    "    # show the post with the given id, the id is an integer\n",
    "    return 'Post %d' % post_id"
   ]
  },
  {
   "cell_type": "code",
   "execution_count": 16,
   "metadata": {},
   "outputs": [
    {
     "name": "stdout",
     "output_type": "stream",
     "text": [
      "Writing flaskr/templates/index.html\n"
     ]
    }
   ],
   "source": [
    "%%writefile flaskr/templates/index.html\n",
    "\n",
    "## 템플릿 저장하기\n",
    "# Html 템플릿을 만들어 저장하기\n",
    "<h1>hello world!</h1>"
   ]
  },
  {
   "cell_type": "code",
   "execution_count": 18,
   "metadata": {},
   "outputs": [
    {
     "name": "stdout",
     "output_type": "stream",
     "text": [
      "Overwriting flaskr/templates/user.html\n"
     ]
    }
   ],
   "source": [
    "%%writefile flaskr/templates/user.html\n",
    "\n",
    "## 템플릿 저장하기\n",
    "# Html 템플릿을 만들어 저장하기\n",
    "# {{변수}} 지정\n",
    "<h1>hello, {{name}}</h1>"
   ]
  },
  {
   "cell_type": "markdown",
   "metadata": {},
   "source": [
    "# 템플릿에 변수 전달"
   ]
  },
  {
   "cell_type": "code",
   "execution_count": 19,
   "metadata": {},
   "outputs": [
    {
     "name": "stdout",
     "output_type": "stream",
     "text": [
      "Writing flaskr/hello1.py\n"
     ]
    }
   ],
   "source": [
    "%%writefile flaskr/hello1.py\n",
    "from flask import Flask, render_template\n",
    "app = Flask(__name__)\n",
    "\n",
    "@app.route('/index')\n",
    "def index():\n",
    "    return render_template('index.html')\n",
    "\n",
    "@app.route('/user/<name>')\n",
    "def user(name):\n",
    "    # Render_template에 변수명은 키워드 인자로 처리\n",
    "    return render_template('user.html', name=name)\n",
    "\n",
    "if __name__ == '__main__':\n",
    "    app.run()"
   ]
  },
  {
   "cell_type": "markdown",
   "metadata": {},
   "source": [
    "# 템플릿내 변수 지정"
   ]
  },
  {
   "cell_type": "code",
   "execution_count": 20,
   "metadata": {},
   "outputs": [
    {
     "name": "stdout",
     "output_type": "stream",
     "text": [
      "Writing flaskr/templates/homepage2.html\n"
     ]
    }
   ],
   "source": [
    "%%writefile flaskr/templates/homepage2.html\n",
    "\n",
    "## 변수에 값 세팅 : 템플릿에 값세팅\n",
    "# {% set 변수명=값 %}으로 변수에 값세팅\n",
    "<!DOCTYPE html>\n",
    "<html lang=\"en\">\n",
    "<head>\n",
    "\n",
    "</head>\n",
    "<body>\n",
    "    <h1>Hello world!</h1>\n",
    "        {% set the_date = \"2020-04-26\" %}\n",
    "        {% set numbers = [0, 1, 2, 3] %}\n",
    "        <p>Today is <strong>{{ the_date }}</strong> and it is a great day!</p>\n",
    "        \n",
    "        <h2>Let's count!</h2>\n",
    "        \n",
    "        {% for n in numbers %}\n",
    "            <div>{{ n }} bottles of soy.</div>\n",
    "        {% endfor %}\n",
    "        \n",
    "        <p>Done counting!</p>\n",
    "</body>\n",
    "</html>"
   ]
  },
  {
   "cell_type": "code",
   "execution_count": 23,
   "metadata": {},
   "outputs": [
    {
     "name": "stdout",
     "output_type": "stream",
     "text": [
      "Overwriting flaskr/homepage2.py\n"
     ]
    }
   ],
   "source": [
    "%%writefile flaskr/homepage2.py\n",
    "\n",
    "## 변수에 값 세팅 : 실행 결과\n",
    "# 변수에 세팅된 결과에 따라 실행\n",
    "import datetime\n",
    "from flask import Flask\n",
    "from flask import render_template\n",
    "app = Flask(__name__)\n",
    "\n",
    "@app.route(\"/\")\n",
    "def homepage():\n",
    "    htmltxt = render_template('homepage2.html')\n",
    "    return htmltxt\n",
    "\n",
    "if __name__ == '__main__':\n",
    "    app.run(use_reloader=True, debug=True)"
   ]
  },
  {
   "cell_type": "markdown",
   "metadata": {},
   "source": [
    "# 템플릿 : dict 타입변수 지정"
   ]
  },
  {
   "cell_type": "code",
   "execution_count": 25,
   "metadata": {},
   "outputs": [
    {
     "name": "stdout",
     "output_type": "stream",
     "text": [
      "Overwriting flaskr/templates/variable.html\n"
     ]
    }
   ],
   "source": [
    "%%writefile flaskr/templates/variable.html\n",
    "\n",
    "## 템플릿 변수 : dict 타입 지정\n",
    "# 템플릿에 dict 타입을 지정해서 render_template에 전달\n",
    "<h1>hello, {{ mydict['key'] }} </h1>"
   ]
  },
  {
   "cell_type": "code",
   "execution_count": 27,
   "metadata": {},
   "outputs": [
    {
     "name": "stdout",
     "output_type": "stream",
     "text": [
      "Writing flaskr/variable.py\n"
     ]
    }
   ],
   "source": [
    "%%writefile flaskr/variable.py\n",
    "\n",
    "from flask import Flask, render_template\n",
    "app = Flask(__name__)\n",
    "\n",
    "@app.route('/index')\n",
    "def index():\n",
    "    return render_template('index.html')\n",
    "\n",
    "mydict = {'key':\"Dahl Moon\"}\n",
    "@app.route('/user')\n",
    "def user():\n",
    "    return render_template('variable.html', mydict=mydict)\n",
    "\n",
    "if __name__ == '__main__':\n",
    "    app.run()"
   ]
  },
  {
   "cell_type": "markdown",
   "metadata": {},
   "source": [
    "# 템플릿 : 필터 사용하기"
   ]
  },
  {
   "cell_type": "code",
   "execution_count": 29,
   "metadata": {},
   "outputs": [
    {
     "name": "stdout",
     "output_type": "stream",
     "text": [
      "Overwriting flaskr/templates/filter1.html\n"
     ]
    }
   ],
   "source": [
    "%%writefile flaskr/templates/filter1.html\n",
    "\n",
    "## 템플릿 : 필터 지정\n",
    "# 템플릿에 변수명 다음에  | 를 지정하고 그 다음에 필터를 지정\n",
    "\n",
    "# capitlize / title : 첫번째 문자를 대문자로 만들고 나머지는 소문자 / 각 단어를 capitalize 처리\n",
    "<h1>Hello, {{ name | capitalize }} </h1>\n",
    "<h1>Hello, {{ name | title }} </h1>\n",
    "\n",
    "# lower / upper : 전체를 소문자로 처리 / 전체를 대문자로 처리\n",
    "<h1>Hello, {{ name | lower }} </h1>\n",
    "<h1>Hello, {{ name | upper }} </h1>\n",
    "\n",
    "# safe : 이스케이프를 적용하지 않고 값을 렌더링\n",
    "<h1>Hello, {{ name | safe }} </h1>\n",
    "\n",
    "# striptags : 렌더링 하기전에 html 태그 제거\n",
    "<h1>Hello, {{ name | striptags }} </h1>\n",
    "\n",
    "# trim : 앞과 뒷부분을 공백문자 제거\n",
    "<h1>Hello, {{ name | trim }} </h1>"
   ]
  },
  {
   "cell_type": "code",
   "execution_count": 30,
   "metadata": {},
   "outputs": [
    {
     "name": "stdout",
     "output_type": "stream",
     "text": [
      "Writing flaskr/filter1.py\n"
     ]
    }
   ],
   "source": [
    "%%writefile flaskr/filter1.py\n",
    "\n",
    "## 템플릿 : 필터 실행 로직\n",
    "# 템플릿 렌더링을 필터링 하는 html 문서를 만들고 처리\n",
    "from flask import Flask, render_template\n",
    "app = Flask(__name__)\n",
    "\n",
    "@app.route('/index')\n",
    "def index():\n",
    "    return render_template('index.html')\n",
    "\n",
    "@app.route('/user/<name>')\n",
    "def user(name):\n",
    "    return render_template('filter1.html', name=name)\n",
    "\n",
    "if __name__ == '__main__':\n",
    "    app.run()"
   ]
  },
  {
   "cell_type": "markdown",
   "metadata": {},
   "source": [
    "# 템플릿 : static 지정"
   ]
  },
  {
   "cell_type": "code",
   "execution_count": 32,
   "metadata": {},
   "outputs": [
    {
     "ename": "SyntaxError",
     "evalue": "invalid syntax (<ipython-input-32-fbf0b5e7e046>, line 3)",
     "output_type": "error",
     "traceback": [
      "\u001b[1;36m  File \u001b[1;32m\"<ipython-input-32-fbf0b5e7e046>\"\u001b[1;36m, line \u001b[1;32m3\u001b[0m\n\u001b[1;33m    <link rel=\"shortcut icon\" href=\"{{ url_for('static', filename='favicon.ico') }}\">\u001b[0m\n\u001b[1;37m    ^\u001b[0m\n\u001b[1;31mSyntaxError\u001b[0m\u001b[1;31m:\u001b[0m invalid syntax\n"
     ]
    }
   ],
   "source": [
    "## 템플릿 : url_for를 이용\n",
    "# url_For를 이용해서 static 내부 파일의 url 연결하기\n",
    "<link rel=\"shortcut icon\" href=\"{{ url_for('static', filename='favicon.ico') }}\">"
   ]
  },
  {
   "cell_type": "code",
   "execution_count": null,
   "metadata": {},
   "outputs": [],
   "source": []
  }
 ],
 "metadata": {
  "kernelspec": {
   "display_name": "Python 3",
   "language": "python",
   "name": "python3"
  },
  "language_info": {
   "codemirror_mode": {
    "name": "ipython",
    "version": 3
   },
   "file_extension": ".py",
   "mimetype": "text/x-python",
   "name": "python",
   "nbconvert_exporter": "python",
   "pygments_lexer": "ipython3",
   "version": "3.7.4"
  }
 },
 "nbformat": 4,
 "nbformat_minor": 2
}
