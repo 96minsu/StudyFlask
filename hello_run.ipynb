{
 "cells": [
  {
   "cell_type": "code",
   "execution_count": 1,
   "metadata": {},
   "outputs": [
    {
     "name": "stdout",
     "output_type": "stream",
     "text": [
      "Overwriting hello_run.py\n"
     ]
    }
   ],
   "source": [
    "%%writefile hello_run.py\n",
    "# Current_app으로 현재 구동되는 어플리케이션 확인할 수 있음\n",
    "from hello4 import app as app4\n",
    "from hello2 import app as app2\n",
    "from flask import current_app\n",
    "\n",
    "app_ctx = app4.app_context()\n",
    "app_ctx.push()\n",
    "print(current_app.name)\n",
    "app4.run()"
   ]
  },
  {
   "cell_type": "code",
   "execution_count": null,
   "metadata": {},
   "outputs": [],
   "source": []
  }
 ],
 "metadata": {
  "kernelspec": {
   "display_name": "Python 3",
   "language": "python",
   "name": "python3"
  },
  "language_info": {
   "codemirror_mode": {
    "name": "ipython",
    "version": 3
   },
   "file_extension": ".py",
   "mimetype": "text/x-python",
   "name": "python",
   "nbconvert_exporter": "python",
   "pygments_lexer": "ipython3",
   "version": "3.7.4"
  }
 },
 "nbformat": 4,
 "nbformat_minor": 2
}
