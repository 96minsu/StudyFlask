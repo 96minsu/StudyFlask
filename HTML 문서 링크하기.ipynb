{
 "cells": [
  {
   "cell_type": "markdown",
   "metadata": {},
   "source": [
    "# Html간 link 처리"
   ]
  },
  {
   "cell_type": "code",
   "execution_count": 2,
   "metadata": {},
   "outputs": [
    {
     "name": "stdout",
     "output_type": "stream",
     "text": [
      "Writing templates/aaa.html\n"
     ]
    }
   ],
   "source": [
    "%%writefile templates/aaa.html\n",
    "\n",
    "<h1>Ambient Intelligence 2020</h1>\n",
    "<p>Welcome to the WakeKill project.</p>\n",
    "<p><img src=\"/static/rooster.jpg\"></p>\n",
    "<p>&copy; <a href=\"/about\">SmartRooster</a><p>"
   ]
  },
  {
   "cell_type": "code",
   "execution_count": 5,
   "metadata": {},
   "outputs": [
    {
     "name": "stdout",
     "output_type": "stream",
     "text": [
      "Overwriting templates/bbb.html\n"
     ]
    }
   ],
   "source": [
    "%%writefile templates/bbb.html\n",
    "\n",
    "<h1>SmartRooster - About us</h1>\n",
    "<p>This group if composed by the greatest sleepers in the class.</p>\n",
    "<p>If it wakes us up, you may bet it'll work for you, too.</p>\n",
    "<h1>Try our <a href=\"/\">WakeKill</a> project</h2>"
   ]
  },
  {
   "cell_type": "code",
   "execution_count": 6,
   "metadata": {},
   "outputs": [
    {
     "name": "stdout",
     "output_type": "stream",
     "text": [
      "Overwriting html_1.py\n"
     ]
    }
   ],
   "source": [
    "%%writefile html_1.py\n",
    "\n",
    "from flask import Flask, render_template\n",
    "\n",
    "app = Flask(__name__)\n",
    "\n",
    "@app.route('/')\n",
    "def index():\n",
    "    \n",
    "    return render_template(\"aaa.html\")\n",
    "\n",
    "@app.route('/about')\n",
    "def about():\n",
    "    \n",
    "    return render_template(\"bbb.html\")\n",
    "\n",
    "if __name__ == '__main__':\n",
    "    app.run()"
   ]
  },
  {
   "cell_type": "code",
   "execution_count": null,
   "metadata": {},
   "outputs": [],
   "source": []
  }
 ],
 "metadata": {
  "kernelspec": {
   "display_name": "Python 3",
   "language": "python",
   "name": "python3"
  },
  "language_info": {
   "codemirror_mode": {
    "name": "ipython",
    "version": 3
   },
   "file_extension": ".py",
   "mimetype": "text/x-python",
   "name": "python",
   "nbconvert_exporter": "python",
   "pygments_lexer": "ipython3",
   "version": "3.7.4"
  }
 },
 "nbformat": 4,
 "nbformat_minor": 2
}
