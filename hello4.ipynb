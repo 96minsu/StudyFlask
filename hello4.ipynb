{
 "cells": [
  {
   "cell_type": "code",
   "execution_count": 1,
   "metadata": {},
   "outputs": [
    {
     "name": "stdout",
     "output_type": "stream",
     "text": [
      "Writing hello4.py\n"
     ]
    }
   ],
   "source": [
    "%%writefile hello4.py\n",
    "from flask import Flask, request\n",
    "app = Flask(__name__)\n",
    "print(app)\n",
    "\n",
    "@app.route('/')\n",
    "def index():\n",
    "    user_agent = request.headers.get('User-Agent')\n",
    "    return \"<h1> Hello World %s</h1>\"%user_agent\n",
    "\n",
    "@app.route('/user/<name>')\n",
    "def user(name):\n",
    "    return \"<h1> Hello World %s !<h1>\"%name\n",
    "\n",
    "if __name__ == \"__main__\":\n",
    "    app.run()"
   ]
  },
  {
   "cell_type": "code",
   "execution_count": null,
   "metadata": {},
   "outputs": [],
   "source": []
  }
 ],
 "metadata": {
  "kernelspec": {
   "display_name": "Python 3",
   "language": "python",
   "name": "python3"
  },
  "language_info": {
   "codemirror_mode": {
    "name": "ipython",
    "version": 3
   },
   "file_extension": ".py",
   "mimetype": "text/x-python",
   "name": "python",
   "nbconvert_exporter": "python",
   "pygments_lexer": "ipython3",
   "version": "3.7.4"
  }
 },
 "nbformat": 4,
 "nbformat_minor": 2
}
