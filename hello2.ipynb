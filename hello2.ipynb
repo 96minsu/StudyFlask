{
 "cells": [
  {
   "cell_type": "code",
   "execution_count": 1,
   "metadata": {},
   "outputs": [
    {
     "name": "stdout",
     "output_type": "stream",
     "text": [
      "Overwriting hello2.py\n"
     ]
    }
   ],
   "source": [
    "%%writefile hello2.py\n",
    "# flask를 구동시키기 위한 어플리케이션 인스턴스를 생성\n",
    "from flask import Flask, redirect\n",
    "app = Flask(__name__)\n",
    "\n",
    "# 31p redirect 함수로 라우팅 하기\n",
    "@app.route('/')\n",
    "def hello_world():\n",
    "    return 'Hello World!'\n",
    "\n",
    "@app.route('/index')\n",
    "def index():\n",
    "    return redirect('http://www.google.com')\n",
    "\n",
    "# flask를 구동시키기 위한 어플리케이션 인스턴스를 run()을 구동해서 시작\n",
    "if __name__ == '__main__':\n",
    "    app.run()"
   ]
  },
  {
   "cell_type": "code",
   "execution_count": null,
   "metadata": {},
   "outputs": [],
   "source": []
  }
 ],
 "metadata": {
  "kernelspec": {
   "display_name": "Python 3",
   "language": "python",
   "name": "python3"
  },
  "language_info": {
   "codemirror_mode": {
    "name": "ipython",
    "version": 3
   },
   "file_extension": ".py",
   "mimetype": "text/x-python",
   "name": "python",
   "nbconvert_exporter": "python",
   "pygments_lexer": "ipython3",
   "version": "3.7.4"
  }
 },
 "nbformat": 4,
 "nbformat_minor": 2
}
